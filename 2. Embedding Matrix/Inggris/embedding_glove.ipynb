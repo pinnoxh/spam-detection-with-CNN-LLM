{
 "cells": [
  {
   "cell_type": "code",
   "execution_count": 1,
   "id": "7c7093d4-1be6-41a2-92b0-0e186794a66c",
   "metadata": {},
   "outputs": [
    {
     "name": "stderr",
     "output_type": "stream",
     "text": [
      "2024-12-12 12:06:19.520752: E external/local_xla/xla/stream_executor/cuda/cuda_fft.cc:485] Unable to register cuFFT factory: Attempting to register factory for plugin cuFFT when one has already been registered\n",
      "2024-12-12 12:06:19.538298: E external/local_xla/xla/stream_executor/cuda/cuda_dnn.cc:8454] Unable to register cuDNN factory: Attempting to register factory for plugin cuDNN when one has already been registered\n",
      "2024-12-12 12:06:19.543710: E external/local_xla/xla/stream_executor/cuda/cuda_blas.cc:1452] Unable to register cuBLAS factory: Attempting to register factory for plugin cuBLAS when one has already been registered\n",
      "2024-12-12 12:06:19.557194: I tensorflow/core/platform/cpu_feature_guard.cc:210] This TensorFlow binary is optimized to use available CPU instructions in performance-critical operations.\n",
      "To enable the following instructions: AVX2 FMA, in other operations, rebuild TensorFlow with the appropriate compiler flags.\n",
      "2024-12-12 12:06:20.596421: W tensorflow/compiler/tf2tensorrt/utils/py_utils.cc:38] TF-TRT Warning: Could not find TensorRT\n",
      "[nltk_data] Downloading package punkt to\n",
      "[nltk_data]     /home/basilmusyaffa19/nltk_data...\n",
      "[nltk_data]   Package punkt is already up-to-date!\n"
     ]
    }
   ],
   "source": [
    "import pandas as pd\n",
    "import numpy as np\n",
    "import torch\n",
    "import tensorflow as tf\n",
    "import nltk\n",
    "import pickle\n",
    "nltk.download('punkt')\n",
    "from tqdm import tqdm\n",
    "\n",
    "#from nltk.tokenize import word_tokenize\n",
    "#from collections import Counter\n",
    "from tensorflow.keras.preprocessing.text import Tokenizer\n",
    "from tensorflow.keras.preprocessing.sequence import pad_sequences\n",
    "\n",
    "import time\n",
    "from datetime import timedelta"
   ]
  },
  {
   "cell_type": "code",
   "execution_count": 2,
   "id": "7f258178-edcd-4a59-8d1e-7ed72b22e1ae",
   "metadata": {},
   "outputs": [
    {
     "name": "stdout",
     "output_type": "stream",
     "text": [
      "2.0.1\n",
      "1.13.0+cu117\n"
     ]
    }
   ],
   "source": [
    "print(np.__version__)\n",
    "print(torch.__version__)"
   ]
  },
  {
   "cell_type": "code",
   "execution_count": 3,
   "id": "f5aebe2d-8177-4f46-8b2d-6c467171341c",
   "metadata": {},
   "outputs": [
    {
     "name": "stdout",
     "output_type": "stream",
     "text": [
      "CUDA available: True\n",
      "CUDA version: 11.7\n",
      "Number of GPUs: 1\n",
      "GPU 0: NVIDIA A100-SXM4-80GB\n"
     ]
    }
   ],
   "source": [
    "cuda_available = torch.cuda.is_available()\n",
    "print(f\"CUDA available: {cuda_available}\")\n",
    "\n",
    "if cuda_available:\n",
    "    print(f\"CUDA version: {torch.version.cuda}\")\n",
    "\n",
    "num_gpus = torch.cuda.device_count()\n",
    "print(f\"Number of GPUs: {num_gpus}\")\n",
    "\n",
    "if num_gpus > 0:\n",
    "    for i in range(num_gpus):\n",
    "        print(f\"GPU {i}: {torch.cuda.get_device_name(i)}\")"
   ]
  },
  {
   "cell_type": "code",
   "execution_count": 4,
   "id": "2271fd6f-a8f5-4a72-8e0e-d7c5562b1b64",
   "metadata": {},
   "outputs": [
    {
     "data": {
      "text/plain": [
       "device(type='cuda')"
      ]
     },
     "execution_count": 4,
     "metadata": {},
     "output_type": "execute_result"
    }
   ],
   "source": [
    "device = torch.device(\"cuda\" if torch.cuda.is_available() else \"cpu\")\n",
    "device"
   ]
  },
  {
   "cell_type": "code",
   "execution_count": 5,
   "id": "3ae28275-17df-4e40-8e23-032aacdd68e3",
   "metadata": {},
   "outputs": [],
   "source": [
    "from torchtext.vocab import GloVe\n",
    "glove = GloVe(name='42B', dim=300) # 42B tokens, 1.9M vocab, uncased, 300d vectors, 1.75 GB download -> English"
   ]
  },
  {
   "cell_type": "code",
   "execution_count": 6,
   "id": "14bb9723-ca0c-4b63-82b8-e323b4d572e1",
   "metadata": {},
   "outputs": [
    {
     "name": "stdout",
     "output_type": "stream",
     "text": [
      "Vocab size: 6588\n"
     ]
    }
   ],
   "source": [
    "with open('/home/basilmusyaffa19/Skripsi Basil/Embedding Matrix/Dataset Inggris/english_keras_tokenizer.pickle', 'rb') as handle:\n",
    "    keras_tokenizer = pickle.load(handle)\n",
    "    \n",
    "vocab_size = len(keras_tokenizer.word_index) + 1\n",
    "print('Vocab size:', vocab_size)"
   ]
  },
  {
   "cell_type": "code",
   "execution_count": null,
   "id": "476f8748-5e1f-40c1-8fa6-5936a6262b9e",
   "metadata": {},
   "outputs": [
    {
     "data": {
      "text/html": [
       "<div>\n",
       "<style scoped>\n",
       "    .dataframe tbody tr th:only-of-type {\n",
       "        vertical-align: middle;\n",
       "    }\n",
       "\n",
       "    .dataframe tbody tr th {\n",
       "        vertical-align: top;\n",
       "    }\n",
       "\n",
       "    .dataframe thead th {\n",
       "        text-align: right;\n",
       "    }\n",
       "</style>\n",
       "<table border=\"1\" class=\"dataframe\">\n",
       "  <thead>\n",
       "    <tr style=\"text-align: right;\">\n",
       "      <th></th>\n",
       "      <th>label</th>\n",
       "      <th>teks</th>\n",
       "    </tr>\n",
       "  </thead>\n",
       "  <tbody>\n",
       "    <tr>\n",
       "      <th>0</th>\n",
       "      <td>1</td>\n",
       "      <td>go jurong point crazy available bugis great wo...</td>\n",
       "    </tr>\n",
       "    <tr>\n",
       "      <th>1</th>\n",
       "      <td>1</td>\n",
       "      <td>ok lar joking wif oni</td>\n",
       "    </tr>\n",
       "    <tr>\n",
       "      <th>2</th>\n",
       "      <td>1</td>\n",
       "      <td>free entry wkly comp win fa cup final tkts may...</td>\n",
       "    </tr>\n",
       "    <tr>\n",
       "      <th>3</th>\n",
       "      <td>1</td>\n",
       "      <td>dun say early hor already say</td>\n",
       "    </tr>\n",
       "    <tr>\n",
       "      <th>4</th>\n",
       "      <td>1</td>\n",
       "      <td>nah think go usf life around though</td>\n",
       "    </tr>\n",
       "    <tr>\n",
       "      <th>...</th>\n",
       "      <td>...</td>\n",
       "      <td>...</td>\n",
       "    </tr>\n",
       "    <tr>\n",
       "      <th>4994</th>\n",
       "      <td>1</td>\n",
       "      <td>time tried contact pound prize claim easy call...</td>\n",
       "    </tr>\n",
       "    <tr>\n",
       "      <th>4995</th>\n",
       "      <td>1</td>\n",
       "      <td>going esplanade fr home</td>\n",
       "    </tr>\n",
       "    <tr>\n",
       "      <th>4996</th>\n",
       "      <td>1</td>\n",
       "      <td>pity mood suggestion</td>\n",
       "    </tr>\n",
       "    <tr>\n",
       "      <th>4997</th>\n",
       "      <td>1</td>\n",
       "      <td>guy bitching acted like interested buying some...</td>\n",
       "    </tr>\n",
       "    <tr>\n",
       "      <th>4998</th>\n",
       "      <td>1</td>\n",
       "      <td>rofl true name</td>\n",
       "    </tr>\n",
       "  </tbody>\n",
       "</table>\n",
       "<p>4999 rows × 2 columns</p>\n",
       "</div>"
      ],
      "text/plain": [
       "      label                                               teks\n",
       "0         1  go jurong point crazy available bugis great wo...\n",
       "1         1                              ok lar joking wif oni\n",
       "2         1  free entry wkly comp win fa cup final tkts may...\n",
       "3         1                      dun say early hor already say\n",
       "4         1                nah think go usf life around though\n",
       "...     ...                                                ...\n",
       "4994      1  time tried contact pound prize claim easy call...\n",
       "4995      1                            going esplanade fr home\n",
       "4996      1                               pity mood suggestion\n",
       "4997      1  guy bitching acted like interested buying some...\n",
       "4998      1                                     rofl true name\n",
       "\n",
       "[4999 rows x 2 columns]"
      ]
     },
     "execution_count": 7,
     "metadata": {},
     "output_type": "execute_result"
    }
   ],
   "source": [
    "df = pd.read_excel('/home/basilmusyaffa19/Skripsi Basil/Dataset/FIX/clean_UCI_22112024.xlsx', engine='openpyxl')\n",
    "df"
   ]
  },
  {
   "cell_type": "code",
   "execution_count": null,
   "id": "250311fe-ed0d-4406-85ae-26b2237aa0d3",
   "metadata": {},
   "outputs": [
    {
     "name": "stdout",
     "output_type": "stream",
     "text": [
      "Jumlah data sebelum: 4999\n",
      "Jumlah data setelah: 4998\n"
     ]
    }
   ],
   "source": [
    "print(\"Jumlah data sebelum:\", len(df))\n",
    "\n",
    "# Menghapus data kosong\n",
    "df = df.replace('', np.nan).dropna()\n",
    "# Hapus NaN\n",
    "df = df.dropna(subset=['teks'])\n",
    "# Menghapus nilai float\n",
    "df = df[~df['teks'].apply(lambda x: isinstance(x, float))]\n",
    "# Menghapus semua baris yang duplikat\n",
    "df = df.drop_duplicates(subset=['teks'], keep='first')\n",
    "\n",
    "print(\"Jumlah data setelah:\", len(df))"
   ]
  },
  {
   "cell_type": "code",
   "execution_count": null,
   "id": "b4a06170-7dd4-402c-850a-80d7b0cd689f",
   "metadata": {},
   "outputs": [],
   "source": [
    "def check_coverage(vocab_list, glove):\n",
    "    embedding_words = set(glove.itos)\n",
    "    num_words_found = 0\n",
    "    oov = []\n",
    "\n",
    "    for word in tqdm(vocab_list):\n",
    "        if word in embedding_words:\n",
    "            num_words_found += 1\n",
    "        else:\n",
    "            oov.append(word)\n",
    "\n",
    "    total_words = len(vocab_list)\n",
    "    print('Found embeddings for {:.2%} of vocab'.format(num_words_found / total_words))\n",
    "    print('Number of words not found: {}'.format(len(oov)))\n",
    "    \n",
    "    return oov"
   ]
  },
  {
   "cell_type": "code",
   "execution_count": 10,
   "id": "3e2d06e6-5a1a-4be8-87eb-fc7169c50491",
   "metadata": {},
   "outputs": [
    {
     "name": "stderr",
     "output_type": "stream",
     "text": [
      "100%|██████████| 6587/6587 [00:00<00:00, 506524.65it/s]"
     ]
    },
    {
     "name": "stdout",
     "output_type": "stream",
     "text": [
      "Found embeddings for 91.15% of vocab\n",
      "Number of words not found: 583\n",
      "\n",
      "Beberapa kata yang tidak ditemukan:\n",
      "'freemsg'\n",
      "'savamob'\n",
      "'bslvyl'\n",
      "'yijue'\n",
      "'custcare'\n",
      "'themob'\n",
      "'netcollex'\n",
      "'txtauction'\n",
      "'linerental'\n",
      "'urgnt'\n"
     ]
    },
    {
     "name": "stderr",
     "output_type": "stream",
     "text": [
      "\n"
     ]
    }
   ],
   "source": [
    "vocab_list = list(keras_tokenizer.word_index.keys())\n",
    "oov = check_coverage(vocab_list, glove)\n",
    "\n",
    "print(\"\\nBeberapa kata yang tidak ditemukan:\")\n",
    "for word in oov[:10]:\n",
    "    print(f\"'{word}'\")\n",
    "    \n",
    "df_oov = pd.DataFrame(oov, columns=['Kata OOV'])\n",
    "df_oov.to_excel('/home/basilmusyaffa19/Skripsi Basil/Embedding Matrix/kata_oov_inggris.xlsx', index=False)"
   ]
  },
  {
   "cell_type": "code",
   "execution_count": 11,
   "id": "51d35e74-a28c-45c1-b630-d195dd575718",
   "metadata": {},
   "outputs": [
    {
     "data": {
      "text/plain": [
       "(6588, 300)"
      ]
     },
     "execution_count": 11,
     "metadata": {},
     "output_type": "execute_result"
    }
   ],
   "source": [
    "embedding_dim = 300\n",
    "embedding_matrix = np.zeros((vocab_size, embedding_dim))\n",
    "embedding_matrix.shape"
   ]
  },
  {
   "cell_type": "code",
   "execution_count": 12,
   "id": "e539e2af-cfe1-4fb4-91c6-374266b43f24",
   "metadata": {},
   "outputs": [],
   "source": [
    "def initialize_embedding_matrix(tokenizer, oov_words, embedding_matrix, model, embedding_dim=300):\n",
    "    start_time = time.time()\n",
    "    word_embeddings = {}\n",
    "    \n",
    "    for word, i in tqdm(tokenizer.word_index.items(), desc=\"Creating embedding matrix\"): \n",
    "        if word in oov_words:\n",
    "            random_vector = np.random.uniform(-0.25, 0.25, embedding_dim)\n",
    "            random_vector = random_vector / np.linalg.norm(random_vector) * np.sqrt(embedding_dim)\n",
    "            embedding_matrix[i] = random_vector\n",
    "            word_embeddings[i] = (word, random_vector)\n",
    "        else:  \n",
    "            embedding_vector = model[word].numpy()\n",
    "            embedding_matrix[i] = embedding_vector\n",
    "            word_embeddings[i] = (word, embedding_vector)\n",
    "    \n",
    "    end_time = time.time()\n",
    "    elapsed_time = end_time - start_time\n",
    "    \n",
    "    print(f\"\\nTotal waktu pembuatan embedding matrix: {elapsed_time}s\")\n",
    "    \n",
    "    return embedding_matrix, word_embeddings"
   ]
  },
  {
   "cell_type": "code",
   "execution_count": 13,
   "id": "88333845-60c3-406e-b111-ff76e52c1ccc",
   "metadata": {},
   "outputs": [
    {
     "name": "stderr",
     "output_type": "stream",
     "text": [
      "Creating embedding matrix: 100%|██████████| 6587/6587 [00:00<00:00, 44485.04it/s]"
     ]
    },
    {
     "name": "stdout",
     "output_type": "stream",
     "text": [
      "\n",
      "Total waktu pembuatan embedding matrix: 0.15183734893798828s\n"
     ]
    },
    {
     "name": "stderr",
     "output_type": "stream",
     "text": [
      "\n"
     ]
    }
   ],
   "source": [
    "embedding_matrix_glove, word_embeddings_glove = initialize_embedding_matrix(\n",
    "    keras_tokenizer,\n",
    "    oov,\n",
    "    embedding_matrix,\n",
    "    glove\n",
    ")"
   ]
  },
  {
   "cell_type": "code",
   "execution_count": 14,
   "id": "6b64d501-1777-45ae-a1c8-98174694e9e7",
   "metadata": {},
   "outputs": [
    {
     "data": {
      "text/plain": [
       "array([[ 0.        ,  0.        ,  0.        , ...,  0.        ,\n",
       "         0.        ,  0.        ],\n",
       "       [-0.10418   ,  0.1406    ,  0.23841999, ...,  0.36063999,\n",
       "        -0.12285   , -0.30285999],\n",
       "       [-0.1961    ,  0.071137  , -0.12630001, ..., -0.28173   ,\n",
       "         0.22459   , -0.023248  ],\n",
       "       ...,\n",
       "       [-0.13383999,  0.52635002, -0.22437   , ..., -0.31380001,\n",
       "         0.34816   , -0.13925   ],\n",
       "       [-0.36144   , -0.25823   ,  0.043368  , ..., -0.22351   ,\n",
       "        -0.19698   , -0.016459  ],\n",
       "       [ 0.094189  ,  0.41624001, -0.51201999, ...,  0.13727   ,\n",
       "         0.46888   , -0.16497   ]])"
      ]
     },
     "execution_count": 14,
     "metadata": {},
     "output_type": "execute_result"
    }
   ],
   "source": [
    "embedding_matrix_glove"
   ]
  },
  {
   "cell_type": "code",
   "execution_count": 15,
   "id": "66427eb7-2630-42cf-897e-ef1cb59385c0",
   "metadata": {},
   "outputs": [
    {
     "name": "stdout",
     "output_type": "stream",
     "text": [
      "Index: 1\n",
      "Word: call\n",
      "Vector (first 10 values): [-0.10418  0.1406   0.23842  0.28409 -0.23904  0.62945 -3.3813   0.59411\n",
      "  0.05484 -0.337  ]\n",
      "---\n",
      "Index: 2\n",
      "Word: get\n",
      "Vector (first 10 values): [-0.1961     0.071137  -0.1263    -0.26382    0.19078    0.27746\n",
      " -4.2662     0.0061844  0.093023  -0.65369  ]\n",
      "---\n",
      "Index: 3\n",
      "Word: ur\n",
      "Vector (first 10 values): [-0.13217  0.68169 -0.33498  0.16939 -0.29244 -0.16021 -2.8784   0.19715\n",
      "  0.54313 -0.44206]\n",
      "---\n",
      "Index: 4\n",
      "Word: go\n",
      "Vector (first 10 values): [ 0.094418  0.26803  -0.18872  -0.34682   0.17336   0.5337   -3.8678\n",
      " -0.2175    0.33643  -0.63875 ]\n",
      "---\n",
      "Index: 5\n",
      "Word: ok\n",
      "Vector (first 10 values): [ 0.05973  0.11751 -0.19544 -0.2859   0.34065  0.11716 -2.8535   0.39046\n",
      "  0.69778 -0.67266]\n",
      "---\n"
     ]
    }
   ],
   "source": [
    "for idx, (word, vector) in list(word_embeddings_glove.items())[:5]:\n",
    "    print(f\"Index: {idx}\")\n",
    "    print(f\"Word: {word}\")\n",
    "    vector_np = np.array(vector) if not isinstance(vector, np.ndarray) else vector\n",
    "    print(f\"Vector (first 10 values): {vector_np[:10]}\")\n",
    "    print(\"---\")"
   ]
  },
  {
   "cell_type": "code",
   "execution_count": 16,
   "id": "04b77d88-3aeb-44d3-90b4-981e74bcf8bd",
   "metadata": {},
   "outputs": [
    {
     "name": "stdout",
     "output_type": "stream",
     "text": [
      "Index: 515\n",
      "Word: freemsg\n",
      "Vector: [-0.1717406   0.22183211 -1.66577952  1.53995452  0.76546314 -1.64845336\n",
      " -1.28138181  0.35215167  1.40190268 -1.24780031  0.6106988  -1.2729654\n",
      "  0.64123784  1.12478378 -1.57432934  0.89725768  0.95133113 -1.65202324\n",
      "  0.33633001  0.44771978  0.38977887  0.17062223 -0.6844741  -1.57921496\n",
      " -1.63487087 -0.93545945 -1.02690043  0.30111914  1.17773265 -0.55030938\n",
      "  1.58569097  1.03298917  0.24081842 -1.31572299 -0.94720028 -0.15650836\n",
      " -1.12460942 -1.51911945  1.12558968 -0.36682209 -1.38956415 -0.71162591\n",
      " -1.65690883 -0.10879413  0.62160919  0.43722576  0.48907955  1.30795345\n",
      "  1.65518228  0.63733328  1.04760398  0.5513509   1.02392627  1.1982408\n",
      " -0.13092216  0.60965289 -1.51979402  0.75108821 -1.28106535 -0.19340008\n",
      " -0.03832161  1.28427106 -0.88047771 -0.29737741  0.64159057  0.08196647\n",
      " -0.32955561  0.28709161 -0.34721292 -0.38175929 -0.20388313 -1.10168868\n",
      " -0.2337588   0.92517062  1.07066229  1.47457061 -1.67632487 -1.55214275\n",
      " -0.40847418  0.88782511  1.49259785  0.55042508  0.40733357  0.74535504\n",
      "  0.37921955  1.06247431 -0.14280076  0.68106391  0.04908898 -1.34097582\n",
      "  0.46060755  1.40221922 -0.71949284 -0.22403377 -0.39997565  0.41203017\n",
      "  1.12878553 -0.01985483  1.40339286  1.66940868 -1.47544337 -0.64157077\n",
      " -0.39038965  1.61461456 -1.33101349  0.80153349 -0.00224889  1.45566783\n",
      "  0.75581531 -1.28799193  0.28326683 -0.84031571 -1.30032836  1.52614509\n",
      "  0.88549925 -1.03902901  0.24438071  0.81306517  0.62976052  0.36497986\n",
      "  1.5382873  -1.28679103 -1.20332211  1.08288762 -0.13534672 -1.49626384\n",
      " -0.7385861  -0.45958746  0.73566784 -1.3880528  -0.27291539  1.12997175\n",
      "  0.25755296 -1.45327254  1.1552046   1.59712348  1.67379139  0.78513785\n",
      "  0.95917425  1.03469143  1.37342406  1.1058448  -1.02212885  1.64224322\n",
      "  1.18814811  1.28230661  0.39035761 -1.06392212 -1.14881026  1.35761361\n",
      " -0.31722254  1.48765129  0.36998199 -0.38456763  0.76497514  0.5786431\n",
      " -1.16500358 -1.66805403 -1.52850265 -0.13895594  1.44106169  0.08609088\n",
      "  0.49847101 -1.32342132 -0.9509865  -0.48373807  0.68675346 -1.04647328\n",
      "  1.29082878  0.77077842 -0.97744551  1.65874956 -1.01854247 -0.29898095\n",
      "  1.36938952  0.7767039   0.13231818 -1.46501543  0.10732702 -0.01006444\n",
      "  0.39726199 -1.06740693  1.38039404 -0.87910717 -0.34594572  0.27180675\n",
      "  0.61204791 -0.87183269  1.23355788 -1.14447823 -0.40353619  0.99443463\n",
      " -0.74342556  1.41967142 -0.03593149  0.78566439 -0.83482222 -1.01082389\n",
      " -0.86174977  1.39311456 -0.29564502 -1.64982386 -1.53562243  0.03883375\n",
      "  1.07804529 -1.1196651  -1.31676538 -1.5123911   0.52574796 -0.94069402\n",
      "  0.42623664 -0.00758498  1.25256959 -0.65093014  1.0773469  -0.73335781\n",
      " -1.65077716  0.66169907  1.54864852 -1.47955431  0.62484406  0.04184894\n",
      " -1.05463761  0.65431315 -0.01494974  0.4723469  -0.04295362  0.63177325\n",
      " -0.54735985 -0.69701175  1.07120347 -1.22961541  0.48512459  1.21207609\n",
      "  0.60610433  0.23010906 -1.27989663 -0.88074943 -1.00503867 -0.70308146\n",
      " -1.02228119 -1.1827914  -0.37211378 -0.73771734  1.65993556 -0.3255515\n",
      "  0.53823291 -1.17609395  0.14769593 -0.21819776 -1.09426206 -0.83116083\n",
      " -1.66593078  0.94321894 -1.09578928 -0.60221958 -0.06316103  1.0054467\n",
      "  1.05754829 -0.49802802 -0.21104957  0.22889286  0.03487704  1.67494007\n",
      " -1.54416151  0.55853968  1.02271962 -0.97778969  1.57732032 -0.87221311\n",
      "  1.13175306 -1.32204098  1.35097062 -1.63050125  1.67663808 -0.1897058\n",
      "  1.43034901 -0.06989702 -0.93940266  1.30584572 -1.20751241  0.39987188\n",
      "  0.24020748 -0.27749623 -0.8251896   1.56783036 -0.83487306 -0.46566462\n",
      " -1.15566661  0.88617844  0.99616345 -0.19126148 -1.38549623  1.57175032\n",
      " -1.24936303 -1.01699967  0.42625648  0.58866941 -1.29529168  1.18641654]\n"
     ]
    }
   ],
   "source": [
    "target_word = \"freemsg\"\n",
    "\n",
    "word_found = False\n",
    "for idx, (word, vector) in word_embeddings_glove.items():\n",
    "    if word == target_word:\n",
    "        print(f\"Index: {idx}\")\n",
    "        print(f\"Word: {word}\")\n",
    "        print(f\"Vector: {vector}\")\n",
    "        word_found = True\n",
    "        break\n",
    "\n",
    "if not word_found:\n",
    "    print(f\"Kata '{target_word}' tidak ditemukan\")"
   ]
  },
  {
   "cell_type": "code",
   "execution_count": 17,
   "id": "1a8c7f39-dd0e-4b0a-83ab-3250acebf5f7",
   "metadata": {},
   "outputs": [],
   "source": [
    "path = '/home/basilmusyaffa19/Skripsi Basil/Embedding Matrix/Dataset Inggris/Hasil Embedding/21 Nov/embedding_matrix_glove42B_300D_21112024.npy'\n",
    "np.save(path, embedding_matrix_glove)"
   ]
  },
  {
   "cell_type": "code",
   "execution_count": 18,
   "id": "7d5e8da3-a2ff-458e-8fa6-6b298d67b7b3",
   "metadata": {},
   "outputs": [
    {
     "name": "stdout",
     "output_type": "stream",
     "text": [
      "Ukuran file: 15.08 MB\n"
     ]
    }
   ],
   "source": [
    "import os\n",
    "file_size = os.path.getsize('/home/basilmusyaffa19/Skripsi Basil/Embedding Matrix/Dataset Inggris/Hasil Embedding/21 Nov/embedding_matrix_glove42B_300D_21112024.npy')\n",
    "print(f\"Ukuran file: {file_size/1024/1024:.2f} MB\")"
   ]
  },
  {
   "cell_type": "code",
   "execution_count": null,
   "id": "bcc7ac54-87b6-48af-a5bb-73a1d3061cf6",
   "metadata": {},
   "outputs": [],
   "source": []
  }
 ],
 "metadata": {
  "kernelspec": {
   "display_name": "Skripsi_2",
   "language": "python",
   "name": "skripsi_2"
  },
  "language_info": {
   "codemirror_mode": {
    "name": "ipython",
    "version": 3
   },
   "file_extension": ".py",
   "mimetype": "text/x-python",
   "name": "python",
   "nbconvert_exporter": "python",
   "pygments_lexer": "ipython3",
   "version": "3.9.19"
  }
 },
 "nbformat": 4,
 "nbformat_minor": 5
}
